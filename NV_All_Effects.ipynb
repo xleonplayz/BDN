{
  "nbformat": 4,
  "nbformat_minor": 5,
  "metadata": {
    "kernelspec": {
      "name": "python3",
      "display_name": "Python 3"
    },
    "language_info": {
      "name": "python"
    }
  },
  "cells": [
    {
      "cell_type": "markdown",
      "metadata": {},
      "source": "# NV Komplett-Simulation\nDiese Notebook kombiniert alle Einzeleffekte."
    },
    {
      "cell_type": "code",
      "metadata": {},
      "source": "from nv_base import *\nfrom dataclasses import replace\nimport numpy as np\nimport matplotlib.pyplot as plt\n\nPOLARIZE_NS = 300.0\nMW_PULSE_NS = 100.0\nWAIT_NS = 20.0\nREAD_NS = 3000.0\nN_RUNS = 100\nMAX_PHOTONS = 100\nMAX_STEPS = 5000\n\nrng = random.PRNGKey(0)\nparams = NVParams()\nbaseline = simulate_n_runs(rng, params, N_RUNS, POLARIZE_NS, MW_PULSE_NS, WAIT_NS, READ_NS, MAX_PHOTONS, MAX_STEPS)\n\nBIN_WIDTH = 10.0\n\n\ndef plot_pulse(base_pt_array, effect_pt_array, title):\n    bins = np.arange(0, READ_NS + BIN_WIDTH, BIN_WIDTH)\n    base_valid = base_pt_array[base_pt_array <= READ_NS]\n    eff_valid = effect_pt_array[effect_pt_array <= READ_NS]\n    base_counts = np.histogram(base_valid, bins=bins)[0]\n    eff_counts = np.histogram(eff_valid, bins=bins)[0]\n    centers = bins[:-1] + BIN_WIDTH/2\n    plt.figure(figsize=(8,4))\n    plt.step(centers, base_counts, where='mid', label='Basis')\n    plt.step(centers, eff_counts, where='mid', label='Effekt')\n    plt.xlabel('Zeit (ns)')\n    plt.ylabel('Counts / %d ns-Bin' % BIN_WIDTH)\n    plt.title(title)\n    plt.legend()\n    plt.show()\n"
    },
    {
      "cell_type": "markdown",
      "metadata": {},
      "source": "## Laser Pumpen"
    },
    {
      "cell_type": "code",
      "metadata": {},
      "source": "params_eff = replace(params, gamma_pump=0.02)\npt = simulate_n_runs(rng, params_eff, N_RUNS, POLARIZE_NS, MW_PULSE_NS, WAIT_NS, READ_NS, MAX_PHOTONS, MAX_STEPS)\nplot_pulse(baseline.reshape(-1), pt.reshape(-1), 'Laser Pumpen')"
    },
    {
      "cell_type": "markdown",
      "metadata": {},
      "source": "## Photonenemission"
    },
    {
      "cell_type": "code",
      "metadata": {},
      "source": "params_eff = replace(params, gamma_rad=1.0/8.0)\npt = simulate_n_runs(rng, params_eff, N_RUNS, POLARIZE_NS, MW_PULSE_NS, WAIT_NS, READ_NS, MAX_PHOTONS, MAX_STEPS)\nplot_pulse(baseline.reshape(-1), pt.reshape(-1), 'Photonenemission')"
    },
    {
      "cell_type": "markdown",
      "metadata": {},
      "source": "## Hyperfein Wechselwirkungen"
    },
    {
      "cell_type": "code",
      "metadata": {},
      "source": "params_eff = replace(params, A_par_ns=2.5e6/1e9)\npt = simulate_n_runs(rng, params_eff, N_RUNS, POLARIZE_NS, MW_PULSE_NS, WAIT_NS, READ_NS, MAX_PHOTONS, MAX_STEPS)\nplot_pulse(baseline.reshape(-1), pt.reshape(-1), 'Hyperfein Wechselwirkungen')"
    },
    {
      "cell_type": "markdown",
      "metadata": {},
      "source": "## Inter System Crossing"
    },
    {
      "cell_type": "code",
      "metadata": {},
      "source": "params_eff = replace(params, k_ISC_ms0=1.0/200.0, k_ISC_ms1=1.0/20.0)\npt = simulate_n_runs(rng, params_eff, N_RUNS, POLARIZE_NS, MW_PULSE_NS, WAIT_NS, READ_NS, MAX_PHOTONS, MAX_STEPS)\nplot_pulse(baseline.reshape(-1), pt.reshape(-1), 'Inter System Crossing')"
    },
    {
      "cell_type": "markdown",
      "metadata": {},
      "source": "## Magnetfeldabhaengigkeit"
    },
    {
      "cell_type": "code",
      "metadata": {},
      "source": "params_eff = replace(params, mw_freq_Hz=2.88e9)\npt = simulate_n_runs(rng, params_eff, N_RUNS, POLARIZE_NS, MW_PULSE_NS, WAIT_NS, READ_NS, MAX_PHOTONS, MAX_STEPS)\nplot_pulse(baseline.reshape(-1), pt.reshape(-1), 'Magnetfeldabhaengigkeit')"
    },
    {
      "cell_type": "markdown",
      "metadata": {},
      "source": "## Orbitale Effekte"
    },
    {
      "cell_type": "code",
      "metadata": {},
      "source": "params_eff = replace(params, gamma_orb=0.2)\npt = simulate_n_runs(rng, params_eff, N_RUNS, POLARIZE_NS, MW_PULSE_NS, WAIT_NS, READ_NS, MAX_PHOTONS, MAX_STEPS)\nplot_pulse(baseline.reshape(-1), pt.reshape(-1), 'Orbitale Effekte')"
    },
    {
      "cell_type": "markdown",
      "metadata": {},
      "source": "## Strain / E-Feld"
    },
    {
      "cell_type": "code",
      "metadata": {},
      "source": "params_eff = replace(params, delta_e_ns=40e6/1e9)\npt = simulate_n_runs(rng, params_eff, N_RUNS, POLARIZE_NS, MW_PULSE_NS, WAIT_NS, READ_NS, MAX_PHOTONS, MAX_STEPS)\nplot_pulse(baseline.reshape(-1), pt.reshape(-1), 'Strain / E-Feld')"
    },
    {
      "cell_type": "markdown",
      "metadata": {},
      "source": "## Feinstruktur des angeregten Zustands"
    },
    {
      "cell_type": "code",
      "metadata": {},
      "source": "params_eff = replace(params, delta_e_ns=35e6/1e9)\npt = simulate_n_runs(rng, params_eff, N_RUNS, POLARIZE_NS, MW_PULSE_NS, WAIT_NS, READ_NS, MAX_PHOTONS, MAX_STEPS)\nplot_pulse(baseline.reshape(-1), pt.reshape(-1), 'Feinstruktur des angeregten Zustands')"
    },
    {
      "cell_type": "markdown",
      "metadata": {},
      "source": "## Photokonversion"
    },
    {
      "cell_type": "code",
      "metadata": {},
      "source": "params_eff = replace(params, detection_eff=0.8)\npt = simulate_n_runs(rng, params_eff, N_RUNS, POLARIZE_NS, MW_PULSE_NS, WAIT_NS, READ_NS, MAX_PHOTONS, MAX_STEPS)\nplot_pulse(baseline.reshape(-1), pt.reshape(-1), 'Photokonversion')"
    },
    {
      "cell_type": "markdown",
      "metadata": {},
      "source": "## MW Pulsfolgen"
    },
    {
      "cell_type": "code",
      "metadata": {},
      "source": "params_eff = replace(params, omega_rabi_Hz=6e6)\npt = simulate_n_runs(rng, params_eff, N_RUNS, POLARIZE_NS, MW_PULSE_NS, WAIT_NS, READ_NS, MAX_PHOTONS, MAX_STEPS)\nplot_pulse(baseline.reshape(-1), pt.reshape(-1), 'MW Pulsfolgen')"
    },
    {
      "cell_type": "markdown",
      "metadata": {},
      "source": "## Temperaturabhaengigkeit"
    },
    {
      "cell_type": "code",
      "metadata": {},
      "source": "params_eff = replace(params, gamma_rad=1.0/14.0)\npt = simulate_n_runs(rng, params_eff, N_RUNS, POLARIZE_NS, MW_PULSE_NS, WAIT_NS, READ_NS, MAX_PHOTONS, MAX_STEPS)\nplot_pulse(baseline.reshape(-1), pt.reshape(-1), 'Temperaturabhaengigkeit')"
    },
    {
      "cell_type": "markdown",
      "metadata": {},
      "source": "## Detektionspfad"
    },
    {
      "cell_type": "code",
      "metadata": {},
      "source": "params_eff = replace(params, detection_eff=0.9)\npt = simulate_n_runs(rng, params_eff, N_RUNS, POLARIZE_NS, MW_PULSE_NS, WAIT_NS, READ_NS, MAX_PHOTONS, MAX_STEPS)\nplot_pulse(baseline.reshape(-1), pt.reshape(-1), 'Detektionspfad')"
    },
    {
      "cell_type": "markdown",
      "metadata": {},
      "source": "## FastCounter"
    },
    {
      "cell_type": "code",
      "metadata": {},
      "source": "params_eff = replace(params, detection_eff=1.0)\npt = simulate_n_runs(rng, params_eff, N_RUNS, POLARIZE_NS, MW_PULSE_NS, WAIT_NS, READ_NS, MAX_PHOTONS, MAX_STEPS)\nplot_pulse(baseline.reshape(-1), pt.reshape(-1), 'FastCounter')"
    },
    {
      "cell_type": "markdown",
      "metadata": {},
      "source": "## Multi Laser Setup"
    },
    {
      "cell_type": "code",
      "metadata": {},
      "source": "params_eff = replace(params, gamma_pump=0.015, detection_eff=0.95)\npt = simulate_n_runs(rng, params_eff, N_RUNS, POLARIZE_NS, MW_PULSE_NS, WAIT_NS, READ_NS, MAX_PHOTONS, MAX_STEPS)\nplot_pulse(baseline.reshape(-1), pt.reshape(-1), 'Multi Laser Setup')"
    }
  ]
}
