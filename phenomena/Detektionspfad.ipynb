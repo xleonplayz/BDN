{
  "cells": [
    {
      "cell_type": "markdown",
      "metadata": {},
      "source": [
        "# Detektionspfad\n",
        "Detektionskanal und Effizienz"
      ]
    },
    {
      "cell_type": "code",
      "metadata": {},
      "source": [
        "from nv_base import *\n",
        "params = NVParams()\n",
        "# TODO: set specific parameters for this phenomenon\n",
        "rng = random.PRNGKey(0)\n",
        "pt = simulate_n_runs(rng, params, 10, 100.0, 50.0, 20.0, 300.0, 50, 100)\n",
        "print('Photon times (first run):', pt[0])\n"
      ]
    }
  ],
  "metadata": {
    "kernelspec": {
      "name": "python3",
      "display_name": "Python 3"
    },
    "language_info": {
      "name": "python"
    }
  },
  "nbformat": 4,
  "nbformat_minor": 5
}
